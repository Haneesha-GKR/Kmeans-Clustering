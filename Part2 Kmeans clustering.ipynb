{
 "cells": [
  {
   "cell_type": "code",
   "execution_count": 28,
   "metadata": {
    "collapsed": true
   },
   "outputs": [],
   "source": [
    "import pandas as pd\n",
    "import numpy as np\n",
    "import matplotlib.pyplot as plt\n",
    "from sklearn.cluster import KMeans\n",
    "from sklearn import preprocessing"
   ]
  },
  {
   "cell_type": "code",
   "execution_count": 29,
   "metadata": {
    "collapsed": true
   },
   "outputs": [],
   "source": [
    "dataset=pd.read_csv(\"Sales_Transactions_Dataset_Weekly.csv\")"
   ]
  },
  {
   "cell_type": "code",
   "execution_count": 30,
   "metadata": {
    "collapsed": true
   },
   "outputs": [],
   "source": [
    " headers=dataset.columns \n"
   ]
  },
  {
   "cell_type": "code",
   "execution_count": 31,
   "metadata": {
    "collapsed": true
   },
   "outputs": [],
   "source": [
    "\n",
    "number = preprocessing.LabelEncoder()\n",
    "for i in headers:\n",
    "    dataset[i] = number.fit_transform(dataset[i].astype(\"str\"))"
   ]
  },
  {
   "cell_type": "code",
   "execution_count": 32,
   "metadata": {
    "collapsed": true
   },
   "outputs": [],
   "source": [
    "dataset= dataset.dropna()"
   ]
  },
  {
   "cell_type": "code",
   "execution_count": 33,
   "metadata": {},
   "outputs": [
    {
     "name": "stdout",
     "output_type": "stream",
     "text": [
      "Total sum within/Totalsum ratios for clusters from 2 to 10 - KMeans Clustering\n",
      "0.5982925654039501\n",
      "0.5072741174024225\n",
      "0.4299755194278666\n",
      "0.3952390888735921\n",
      "0.3672549262129422\n",
      "0.3497601841320362\n",
      "0.34416835402001783\n",
      "0.3374216464277383\n",
      "0.3319773119013967\n",
      "\n"
     ]
    }
   ],
   "source": [
    "\n",
    "\n",
    "K_sum=[]\n",
    "print (\"Total sum within/Totalsum ratios for clusters from 2 to 10 - KMeans Clustering\")\n",
    "for k in range(2,11):\n",
    "    n_c=k\n",
    "    k_model = KMeans(n_c) \n",
    "    k_model.fit(dataset)\n",
    "    \n",
    "    \n",
    "    x=dataset.mean()\n",
    "    TSS=pd.DataFrame()\n",
    "    for p in  range(len(dataset.iloc[0,:])):\n",
    "        TSS[p]=(dataset.iloc[:,p]-x[p])**2   \n",
    "    c=TSS.sum()\n",
    "    Totalsum=pd.Series(c).sum()\n",
    "    y=k_model.fit_predict(dataset)\n",
    "    dataset['cluster_number']=y\n",
    "    grp=dataset.groupby([\"cluster_number\"]).mean()\n",
    "    SSW=[]\n",
    "    for p in range(n_c):\n",
    "        B=pd.DataFrame()\n",
    "        B=dataset.loc[dataset['cluster_number'] == p]\n",
    "        b=B.mean()\n",
    "        TSSW=pd.DataFrame()\n",
    "        for p in  range(len(B.iloc[0,:])):\n",
    "            TSSW[p]=(B.iloc[:,p]-b[p])**2   \n",
    "        c=TSSW.sum()\n",
    "        SSW.append(pd.Series(c).sum())\n",
    "    TTSSW=sum(SSW)\n",
    "    print(TTSSW/Totalsum)\n",
    "    K_sum.append(TTSSW/Totalsum)\n",
    "n=[2,3,4,5,6,7,8,9,10]\n",
    "plt.plot(n,K_sum)\n",
    "print()\n"
   ]
  }
 ],
 "metadata": {
  "kernelspec": {
   "display_name": "Python 3",
   "language": "python",
   "name": "python3"
  },
  "language_info": {
   "codemirror_mode": {
    "name": "ipython",
    "version": 3
   },
   "file_extension": ".py",
   "mimetype": "text/x-python",
   "name": "python",
   "nbconvert_exporter": "python",
   "pygments_lexer": "ipython3",
   "version": "3.6.3"
  }
 },
 "nbformat": 4,
 "nbformat_minor": 2
}
